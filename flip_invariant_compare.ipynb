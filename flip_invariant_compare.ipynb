{
 "cells": [
  {
   "cell_type": "markdown",
   "metadata": {},
   "source": [
    "# Flip에 상관 없는 Feature 추출하기\n",
    "## Exercise 2.\n",
    "### OpenCV 및 이미지 불러오기"
   ]
  },
  {
   "cell_type": "code",
   "execution_count": null,
   "metadata": {},
   "outputs": [],
   "source": [
    "import cv2 # opencv\n",
    "import numpy as np # treat image as matrix\n",
    "from matplotlib import pyplot as plt # plot result\n",
    "\n",
    "image = cv2.imread('wally.png') # load source image\n",
    "flipped = cv2.flip(image, 1) # flip image\n",
    "\n",
    "# Get histogram from grayscale\n",
    "image_bw = cv2.cvtColor(image, cv2.COLOR_BGR2GRAY)\n",
    "flipped_bw = cv2.cvtColor(flipped, cv2.COLOR_BGR2GRAY)\n",
    "\n",
    "# Convert BGR to RGB\n",
    "image_plt = cv2.cvtColor(image, cv2.COLOR_BGR2RGB)\n",
    "flipped_plt = cv2.cvtColor(flipped, cv2.COLOR_BGR2RGB)\n",
    "\n",
    "# show image and template\n",
    "fig, axs = plt.subplots(1, 2, figsize=(5,5))\n",
    "axs[0].imshow(image_plt)\n",
    "axs[0].title.set_text('Image')\n",
    "axs[1].imshow(flipped_plt)\n",
    "axs[1].title.set_text('Flipped')"
   ]
  },
  {
   "cell_type": "markdown",
   "metadata": {},
   "source": [
    "### Pixel domain에서의 크기 비교\n",
    "Mean Squared Error: mean(|Image - Flipped|^2)"
   ]
  },
  {
   "cell_type": "code",
   "execution_count": null,
   "metadata": {},
   "outputs": [],
   "source": [
    "MSE_pixel = np.mean((image_bw - flipped_bw)**2)\n",
    "print('MSE of pixel difference is %d' % MSE_pixel)"
   ]
  },
  {
   "cell_type": "markdown",
   "metadata": {},
   "source": [
    "### Histogram 확인"
   ]
  },
  {
   "cell_type": "code",
   "execution_count": null,
   "metadata": {},
   "outputs": [],
   "source": [
    "# show image and template\n",
    "fig, axs = plt.subplots(1, 2, figsize=(10,5))\n",
    "axs[0].hist(image_bw.ravel(), 256, [0, 256]);\n",
    "axs[0].title.set_text('Image')\n",
    "axs[1].hist(flipped_bw.ravel(), 256, [0, 256]);\n",
    "axs[1].title.set_text('Flipped')"
   ]
  },
  {
   "cell_type": "markdown",
   "metadata": {},
   "source": [
    "### Histogram 크기 비교"
   ]
  },
  {
   "cell_type": "code",
   "execution_count": null,
   "metadata": {},
   "outputs": [],
   "source": [
    "histr_image = cv2.calcHist([image_bw], [0], None, [256], [0, 256])\n",
    "histr_flipped = cv2.calcHist([flipped_bw], [0], None, [256], [0, 256])\n",
    "\n",
    "MSE_hist = np.mean((histr_image - histr_flipped)**2)\n",
    "print('MSE of hist difference is %d' % MSE_hist)\n",
    "print('ref: MSE of pixel difference is %d' % MSE_pixel)"
   ]
  },
  {
   "cell_type": "code",
   "execution_count": null,
   "metadata": {},
   "outputs": [],
   "source": []
  }
 ],
 "metadata": {
  "kernelspec": {
   "display_name": "Python 3",
   "language": "python",
   "name": "python3"
  },
  "language_info": {
   "codemirror_mode": {
    "name": "ipython",
    "version": 3
   },
   "file_extension": ".py",
   "mimetype": "text/x-python",
   "name": "python",
   "nbconvert_exporter": "python",
   "pygments_lexer": "ipython3",
   "version": "3.6.10"
  }
 },
 "nbformat": 4,
 "nbformat_minor": 4
}
