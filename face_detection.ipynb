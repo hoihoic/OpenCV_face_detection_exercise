{
 "cells": [
  {
   "cell_type": "markdown",
   "metadata": {},
   "source": [
    "# Face Detection and Feature Visualization\n",
    "## Excercise 3.\n",
    "\n",
    "### OpenCV 및 Detector 정보 파싱하기"
   ]
  },
  {
   "cell_type": "code",
   "execution_count": null,
   "metadata": {},
   "outputs": [],
   "source": [
    "\"\"\"\n",
    "*Uncomment if running on colab* \n",
    "Set Runtime -> Change runtime type -> Under Hardware Accelerator select GPU in Google Colab \n",
    "\"\"\"\n",
    "# !git clone https://github.com/hoihoic/OpenCV_face_detection_exercise.git\n",
    "# !mv OpenCV_face_detection_exercise/* ./\n",
    "\n",
    "import cv2\n",
    "import time\n",
    "import xml.etree.ElementTree as ET\n",
    "\n",
    "xml_path = r'./haarcascade_frontalcatface_extended.xml'\n",
    "image_path = r'./00204_Mask.jpg'\n",
    "\n",
    "# Parsing xml for face detector\n",
    "tree = ET.parse(xml_path)\n",
    "root = tree.getroot()\n",
    "\n",
    "haarcascade = [] \n",
    "feat_list = []"
   ]
  },
  {
   "cell_type": "markdown",
   "metadata": {},
   "source": [
    "### 얼굴 검출 및 관심 영역 추출"
   ]
  },
  {
   "cell_type": "code",
   "execution_count": null,
   "metadata": {},
   "outputs": [],
   "source": [
    "# Load an image\n",
    "image = cv2.imread(image_path)\n",
    "\n",
    "# Create and Load the detector\n",
    "face_cascade = cv2.CascadeClassifier()\n",
    "face_cascade.load(xml_path)\n",
    "\n",
    "# Convert RGB to gray for input\n",
    "image_gray = cv2.cvtColor(image, cv2.COLOR_BGR2GRAY)\n",
    "faces = face_cascade.detectMultiScale(image_gray, scaleFactor=1.02)\n",
    "x, y, w, h = faces[0]\n",
    "image = image[y:y+h, x:x+w, :]\n",
    "\n",
    "w_f = int(root.findall('.//width')[0].text)\n",
    "h_f = int(root.findall('.//height')[0].text)\n",
    "\n",
    "h_ratio, w_ratio = h / h_f, w / w_f"
   ]
  },
  {
   "cell_type": "markdown",
   "metadata": {},
   "source": [
    "### Weak classifier 정보 추출"
   ]
  },
  {
   "cell_type": "code",
   "execution_count": null,
   "metadata": {},
   "outputs": [],
   "source": [
    "# Get rectangle information from xml tree\n",
    "for rects in root.iter('rects'):\n",
    "    feat_dict = {'rect': [], 'val': []}\n",
    "    for i in rects.iter('_'):\n",
    "        vals = i.text.split(\" \")\n",
    "        x = int(vals[10])\n",
    "        y = int(vals[11])\n",
    "        w = int(vals[12])\n",
    "        h = int(vals[13])\n",
    "        v = float(vals[14])\n",
    "        \n",
    "        feat_dict['rect'] += [[x, y, w, h]]\n",
    "        feat_dict['val'] += [v]\n",
    "        \n",
    "    feat_list += [feat_dict]"
   ]
  },
  {
   "cell_type": "markdown",
   "metadata": {},
   "source": [
    "### Feature Visualization"
   ]
  },
  {
   "cell_type": "code",
   "execution_count": null,
   "metadata": {},
   "outputs": [],
   "source": [
    "# white region: positive weight\n",
    "# black region: negative region\n",
    "def draw_feature(image, feat, w_ratio, h_ratio):\n",
    "    img = image.copy()\n",
    "    \n",
    "    rects = feat['rect']\n",
    "    val = feat['val']\n",
    "    \n",
    "    for i, r in enumerate(rects):\n",
    "        x, y, w, h = r\n",
    "        v = val[i]\n",
    "        start = (int(x*w_ratio), int(y*h_ratio))\n",
    "        end = (int((x+w)*w_ratio), int((y+h)*h_ratio))\n",
    "        \n",
    "        color = (255, 255, 255) if v > 0 else (0, 0, 0)\n",
    "\n",
    "        img = cv2.rectangle(img, start, end, color, -1)\n",
    "        \n",
    "    cv2.imshow('image with feat', img)\n",
    "    key = cv2.waitKey(3000)\n",
    "    if key == 27:\n",
    "        exit()\n",
    "\n",
    "# find every stages and classifiers\n",
    "for stage, child in enumerate(root.iter('weakClassifiers')):\n",
    "    for cchild in child.iter('internalNodes'):\n",
    "        n_value = cchild.text\n",
    "        n_value = n_value.split(' ')\n",
    "        idx_feat = int(n_value[14])\n",
    "        \n",
    "        haarcascade_stage = {'rect': feat_list[idx_feat]['rect'], 'val':feat_list[idx_feat]['val']}\n",
    "        haarcascade += [haarcascade_stage]\n",
    "        \n",
    "        draw_feature(image, haarcascade_stage, w_ratio, h_ratio)       "
   ]
  },
  {
   "cell_type": "code",
   "execution_count": null,
   "metadata": {},
   "outputs": [],
   "source": []
  }
 ],
 "metadata": {
  "kernelspec": {
   "display_name": "Python 3",
   "language": "python",
   "name": "python3"
  },
  "language_info": {
   "codemirror_mode": {
    "name": "ipython",
    "version": 3
   },
   "file_extension": ".py",
   "mimetype": "text/x-python",
   "name": "python",
   "nbconvert_exporter": "python",
   "pygments_lexer": "ipython3",
   "version": "3.6.10"
  }
 },
 "nbformat": 4,
 "nbformat_minor": 4
}
