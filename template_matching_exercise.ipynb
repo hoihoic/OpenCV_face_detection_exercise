{
 "cells": [
  {
   "cell_type": "markdown",
   "metadata": {},
   "source": [
    "# Python과 OpenCV를 사용한 Template Matching 실습\n",
    "## Exercise 1.\n",
    "### OpenCV 불러오기"
   ]
  },
  {
   "cell_type": "code",
   "execution_count": null,
   "metadata": {},
   "outputs": [],
   "source": [
    "\"\"\"\n",
    "*Uncomment if running on colab* \n",
    "Set Runtime -> Change runtime type -> Under Hardware Accelerator select GPU in Google Colab \n",
    "\"\"\"\n",
    "# !git clone https://github.com/hoihoic/OpenCV_face_detection_exercise.git\n",
    "# !mv OpenCV_face_detection_exercise/* ./\n",
    "\n",
    "import cv2 # opencv\n",
    "import numpy as np # treat image as matrix\n",
    "from matplotlib import pyplot as plt # plot result"
   ]
  },
  {
   "cell_type": "markdown",
   "metadata": {},
   "source": [
    "### 이미지 불러오기"
   ]
  },
  {
   "cell_type": "code",
   "execution_count": null,
   "metadata": {},
   "outputs": [],
   "source": [
    "target = cv2.imread('where_is_wally.png') # load target image\n",
    "template = cv2.imread('wally.png') # load template\n",
    "\n",
    "# Convert BGR to RGB\n",
    "target_plt = cv2.cvtColor(target, cv2.COLOR_BGR2RGB)\n",
    "template_plt = cv2.cvtColor(template, cv2.COLOR_BGR2RGB)\n",
    "\n",
    "# show image and template\n",
    "fig, axs = plt.subplots(1, 2, gridspec_kw={'width_ratios': [3, 1]}, figsize=(10,10))\n",
    "axs[0].imshow(target_plt)\n",
    "axs[0].title.set_text('Target')\n",
    "axs[1].imshow(template_plt)\n",
    "axs[1].title.set_text('Template')"
   ]
  },
  {
   "cell_type": "markdown",
   "metadata": {},
   "source": [
    "### Template Matching 하기\n",
    "- cv2.matchTemplate()와 cv2.minMaxLoc()을 사용하여 이미지에서 template의 위치를 찾아보세요.<br>\n",
    "- matchTemplate()의 compare방법에 따라서 최대값, 최소값 중에 적합한 값을 선택해보세요."
   ]
  },
  {
   "cell_type": "code",
   "execution_count": null,
   "metadata": {},
   "outputs": [],
   "source": [
    "# Convert BGR to Gray\n",
    "target_bw = cv2.cvtColor( , ) # problem (1)\n",
    "template_bw = cv2.cvtColor( , ) # problem (2)\n",
    "\n",
    "# Run template matching\n",
    "res = cv2.matchTemplate(, , ) # problem (3)\n",
    "\n",
    "# Find matched location\n",
    "min_val, max_val, min_loc, max_loc = cv2.minMaxLoc() #problem (4)\n",
    "\n",
    "# Draw rectange at the detected\n",
    "w, h, _ = template.shape\n",
    "top_left = min_loc\n",
    "bottom_right = (top_left[0] + h, top_left[1] + w)\n",
    "target_match1 = target_plt.copy()\n",
    "cv2.rectangle(target_match1, top_left, bottom_right, (0,0,255), 2)\n",
    "\n",
    "# show image and template\n",
    "fig, axs = plt.subplots(1, 2, gridspec_kw={'width_ratios': [3, 1]}, figsize=(10,10))\n",
    "axs[0].imshow(target_match1)\n",
    "axs[0].title.set_text('Detected')\n",
    "axs[1].imshow(template_plt)\n",
    "axs[1].title.set_text('Template')"
   ]
  },
  {
   "cell_type": "markdown",
   "metadata": {},
   "source": [
    "### 이미지에서 월리가 고개를 돌리면?"
   ]
  },
  {
   "cell_type": "code",
   "execution_count": null,
   "metadata": {},
   "outputs": [],
   "source": [
    "target_flip = cv2.imread('where_is_wally_flipped.png')\n",
    "target_flip_bw = cv2.cvtColor(target_flip, cv2.COLOR_BGR2GRAY)\n",
    "\n",
    "res = cv2.matchTemplate(target_flip_bw, template_bw, cv2.TM_SQDIFF)\n",
    "min_val, max_val, min_loc, max_loc = cv2.minMaxLoc(res)\n",
    "\n",
    "# Draw rectange at the detected\n",
    "w, h, _ = template.shape\n",
    "top_left = min_loc\n",
    "bottom_right = (top_left[0] + h, top_left[1] + w)\n",
    "target_match2 = target_plt.copy()\n",
    "cv2.rectangle(target_match2, top_left, bottom_right, (0,0,255), 2)\n",
    "\n",
    "# show image and template\n",
    "fig, axs = plt.subplots(1, 2, gridspec_kw={'width_ratios': [3, 1]}, figsize=(10,10))\n",
    "axs[0].imshow(target_match2)\n",
    "axs[0].title.set_text('Detected')\n",
    "axs[1].imshow(template_plt)\n",
    "axs[1].title.set_text('Template')"
   ]
  },
  {
   "cell_type": "code",
   "execution_count": null,
   "metadata": {},
   "outputs": [],
   "source": []
  }
 ],
 "metadata": {
  "kernelspec": {
   "display_name": "Python 3",
   "language": "python",
   "name": "python3"
  },
  "language_info": {
   "codemirror_mode": {
    "name": "ipython",
    "version": 3
   },
   "file_extension": ".py",
   "mimetype": "text/x-python",
   "name": "python",
   "nbconvert_exporter": "python",
   "pygments_lexer": "ipython3",
   "version": "3.6.10"
  }
 },
 "nbformat": 4,
 "nbformat_minor": 4
}
